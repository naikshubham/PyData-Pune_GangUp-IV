{
 "cells": [
  {
   "cell_type": "code",
   "execution_count": 1,
   "metadata": {
    "collapsed": true
   },
   "outputs": [],
   "source": [
    "from sklearn.feature_extraction.text import CountVectorizer"
   ]
  },
  {
   "cell_type": "code",
   "execution_count": 2,
   "metadata": {
    "collapsed": true
   },
   "outputs": [],
   "source": [
    "corpus = [\"This pasta is very tasty and affordable.\",\"This pasta is not tasty and affordable.\",\"This pasta is delicious and cheap.\",\"Pasta is tasty and pasta tastes good.\"]\n",
    "          "
   ]
  },
  {
   "cell_type": "markdown",
   "metadata": {},
   "source": [
    "#Perform text preprocessing such as stop word removal,stemming,removing punctuations etc."
   ]
  },
  {
   "cell_type": "code",
   "execution_count": 3,
   "metadata": {
    "collapsed": true
   },
   "outputs": [],
   "source": [
    "import re\n",
    "import string\n",
    "import nltk\n",
    "from nltk.corpus import stopwords\n",
    "from nltk.stem import PorterStemmer\n",
    "#from nltk.stem import SnowballStemmer\n",
    "from nltk.stem.wordnet import WordNetLemmatizer\n",
    "\n",
    "stop = set(stopwords.words('english'))  #set of stopwords\n",
    "sno = nltk.stem.SnowballStemmer('english') #initialising the snowball stemmer\n",
    "\n",
    "def cleanhtml(sentence):  #function to clean the words of any html-tags\n",
    "    cleanr = re.compile('<.*?>')\n",
    "    cleantext = re.sub(cleanr,' ',sentence)\n",
    "    return cleantext\n",
    "def cleanpunc(sentence):  #function to clean the sentence for any punctuaution or special characters\n",
    "    cleaned = re.sub(r'[?|!|\\'|\"|#]',r'',sentence)\n",
    "    cleaned = re.sub(r'[.|,|)|(|\\|/]',r' ',cleaned)\n",
    "    return cleaned\n",
    "#print(stop)\n",
    "#print('****************************')\n",
    "#print(sno.stem('tasty'))"
   ]
  },
  {
   "cell_type": "code",
   "execution_count": 4,
   "metadata": {},
   "outputs": [
    {
     "name": "stdout",
     "output_type": "stream",
     "text": [
      "Corpus before text preprocessing:\n",
      "['This pasta is very tasty and affordable.', 'This pasta is not tasty and affordable.', 'This pasta is delicious and cheap.', 'Pasta is tasty and pasta tastes good.']\n",
      "\n",
      "\n",
      "Corpus after text preprocessing:\n",
      "['pasta tasti afford', 'pasta tasti afford', 'pasta delici cheap', 'pasta tasti pasta tast good']\n"
     ]
    }
   ],
   "source": [
    "#code for text-preprocessing\n",
    "\n",
    "i=0\n",
    "str1=' '\n",
    "final_corpus=[]\n",
    "for sent in corpus:\n",
    "    filtered_sentence=[]\n",
    "    #print(sent);\n",
    "    sent=cleanhtml(sent) # remove HTMl tags\n",
    "    for w in sent.split():\n",
    "        for cleaned_words in cleanpunc(w).split():\n",
    "            if((cleaned_words.isalpha()) & (len(cleaned_words)>2)):    \n",
    "                if(cleaned_words.lower() not in stop):\n",
    "                    s=(sno.stem(cleaned_words.lower()))\n",
    "                    filtered_sentence.append(s)\n",
    "                else:\n",
    "                    continue\n",
    "            else:\n",
    "                continue \n",
    "    #print(filtered_sentence)\n",
    "    str1 = \" \".join(filtered_sentence) #final string of cleaned words\n",
    "    #print(str1)\n",
    "    #print(\"***********************************************************************\")\n",
    "    \n",
    "    final_corpus.append(str1)\n",
    "print(\"Corpus before text preprocessing:\")\n",
    "print(corpus)\n",
    "print(\"\\n\")\n",
    "print('Corpus after text preprocessing:')\n",
    "print(final_corpus)"
   ]
  },
  {
   "cell_type": "code",
   "execution_count": 5,
   "metadata": {},
   "outputs": [
    {
     "name": "stdout",
     "output_type": "stream",
     "text": [
      "Sparse vector representation:\n",
      "   (0, 0)\t1\n",
      "  (0, 6)\t1\n",
      "  (0, 4)\t1\n",
      "  (1, 0)\t1\n",
      "  (1, 6)\t1\n",
      "  (1, 4)\t1\n",
      "  (2, 1)\t1\n",
      "  (2, 2)\t1\n",
      "  (2, 4)\t1\n",
      "  (3, 3)\t1\n",
      "  (3, 5)\t1\n",
      "  (3, 6)\t1\n",
      "  (3, 4)\t2\n"
     ]
    }
   ],
   "source": [
    "vectorizer = CountVectorizer()\n",
    "bow_vec = vectorizer.fit_transform(final_corpus)\n",
    "print(\"Sparse vector representation:\\n\",bow_vec)"
   ]
  },
  {
   "cell_type": "markdown",
   "metadata": {},
   "source": [
    "#In sparse vector representaion, only the non zero values are shown. Lets convert it to numpy array."
   ]
  },
  {
   "cell_type": "code",
   "execution_count": 6,
   "metadata": {},
   "outputs": [
    {
     "name": "stdout",
     "output_type": "stream",
     "text": [
      "Dimensions of dense bow: (4, 7)\n",
      "[[1 0 0 0 1 0 1]\n",
      " [1 0 0 0 1 0 1]\n",
      " [0 1 1 0 1 0 0]\n",
      " [0 0 0 1 2 1 1]]\n"
     ]
    }
   ],
   "source": [
    "dense_bow = bow_vec.todense()  #converting sparse vector to a dense numpy array\n",
    "print(\"Dimensions of dense bow:\", dense_bow.shape)\n",
    "print(dense_bow)"
   ]
  },
  {
   "cell_type": "code",
   "execution_count": 7,
   "metadata": {},
   "outputs": [
    {
     "name": "stdout",
     "output_type": "stream",
     "text": [
      "{'pasta': 4, 'tasti': 6, 'afford': 0, 'delici': 2, 'cheap': 1, 'tast': 5, 'good': 3}\n"
     ]
    }
   ],
   "source": [
    "print( vectorizer.vocabulary_ ) #this is the mapping of term to feature indices\n"
   ]
  },
  {
   "cell_type": "markdown",
   "metadata": {},
   "source": [
    "# Bi-Grams"
   ]
  },
  {
   "cell_type": "code",
   "execution_count": 33,
   "metadata": {},
   "outputs": [
    {
     "name": "stdout",
     "output_type": "stream",
     "text": [
      "Dimensions of bi-gram bow: (4, 14)\n",
      "Bi-gram bow \n",
      " [[1 0 0 0 0 1 0 0 1 0 0 1 1 0]\n",
      " [1 0 0 0 0 1 0 0 1 0 0 1 1 0]\n",
      " [0 1 1 1 0 1 1 0 0 0 0 0 0 0]\n",
      " [0 0 0 0 1 2 0 1 1 1 1 1 0 1]]\n"
     ]
    }
   ],
   "source": [
    "vectorizer = CountVectorizer(ngram_range=(1,2))\n",
    "final_bigrams = vectorizer.fit_transform(final_corpus)\n",
    "print(\"Dimensions of bi-gram bow:\",final_bigrams.shape)\n",
    "\n",
    "print('Bi-gram bow \\n',final_bigrams.todense())"
   ]
  },
  {
   "cell_type": "code",
   "execution_count": 8,
   "metadata": {
    "collapsed": true
   },
   "outputs": [],
   "source": [
    "from sklearn.feature_extraction.text import TfidfTransformer\n",
    "from sklearn.feature_extraction.text import TfidfVectorizer"
   ]
  },
  {
   "cell_type": "code",
   "execution_count": 9,
   "metadata": {
    "collapsed": true
   },
   "outputs": [],
   "source": [
    "tf_idf_vect = TfidfVectorizer()\n",
    "final_tf_idf = tf_idf_vect.fit_transform(final_corpus)"
   ]
  },
  {
   "cell_type": "code",
   "execution_count": 16,
   "metadata": {},
   "outputs": [
    {
     "name": "stdout",
     "output_type": "stream",
     "text": [
      "['afford', 'cheap', 'delici', 'good', 'pasta', 'tast', 'tasti']\n",
      "Shape: (4, 7)\n"
     ]
    }
   ],
   "source": [
    "features = tf_idf_vect.get_feature_names()\n",
    "print(features)\n",
    "print('Shape:',final_tf_idf.shape)"
   ]
  },
  {
   "cell_type": "code",
   "execution_count": 13,
   "metadata": {},
   "outputs": [
    {
     "name": "stdout",
     "output_type": "stream",
     "text": [
      "[[ 0.69113141  0.          0.          0.          0.4574528   0.\n",
      "   0.55953044]\n",
      " [ 0.69113141  0.          0.          0.          0.4574528   0.\n",
      "   0.55953044]\n",
      " [ 0.          0.66338461  0.66338461  0.          0.34618161  0.          0.        ]\n",
      " [ 0.          0.          0.          0.53477584  0.55813643  0.53477584\n",
      "   0.34134049]]\n"
     ]
    }
   ],
   "source": [
    "tf_idf = final_tf_idf.todense()\n",
    "print(tf_idf)"
   ]
  }
 ],
 "metadata": {
  "kernelspec": {
   "display_name": "Python 3",
   "language": "python",
   "name": "python3"
  },
  "language_info": {
   "codemirror_mode": {
    "name": "ipython",
    "version": 3
   },
   "file_extension": ".py",
   "mimetype": "text/x-python",
   "name": "python",
   "nbconvert_exporter": "python",
   "pygments_lexer": "ipython3",
   "version": "3.6.3"
  }
 },
 "nbformat": 4,
 "nbformat_minor": 2
}
